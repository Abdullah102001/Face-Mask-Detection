{
  "nbformat": 4,
  "nbformat_minor": 0,
  "metadata": {
    "colab": {
      "name": "Mask Detection.ipynb",
      "provenance": [],
      "collapsed_sections": []
    },
    "kernelspec": {
      "name": "python3",
      "display_name": "Python 3"
    },
    "language_info": {
      "name": "python"
    }
  },
  "cells": [
    {
      "cell_type": "code",
      "execution_count": null,
      "metadata": {
        "colab": {
          "base_uri": "https://localhost:8080/"
        },
        "id": "7dCJeFQ2aJvk",
        "outputId": "5bb4b66e-bd0e-43af-88f1-f74abf5a3078"
      },
      "outputs": [
        {
          "output_type": "stream",
          "name": "stdout",
          "text": [
            "Drive already mounted at /content/drive; to attempt to forcibly remount, call drive.mount(\"/content/drive\", force_remount=True).\n"
          ]
        }
      ],
      "source": [
        "from google.colab import drive\n",
        "drive.mount('/content/drive')"
      ]
    },
    {
      "cell_type": "markdown",
      "source": [
        "## **Import Library**"
      ],
      "metadata": {
        "id": "9YRhmBHn4slJ"
      }
    },
    {
      "cell_type": "code",
      "source": [
        "# import the necessary packages\n",
        "from tensorflow.keras.preprocessing.image import ImageDataGenerator\n",
        "from tensorflow.keras.applications import MobileNetV2\n",
        "from tensorflow.keras.layers import AveragePooling2D\n",
        "from tensorflow.keras.layers import Dropout\n",
        "from tensorflow.keras.layers import Flatten\n",
        "from sklearn.metrics import confusion_matrix\n",
        "from sklearn.metrics import accuracy_score \n",
        "from tensorflow.keras.layers import Dense\n",
        "from tensorflow.keras.layers import Input\n",
        "from tensorflow.keras.models import Model\n",
        "from tensorflow.keras.optimizers import Adam\n",
        "from tensorflow.keras.applications.mobilenet_v2 import preprocess_input\n",
        "from tensorflow.keras.preprocessing.image import img_to_array\n",
        "from tensorflow.keras.preprocessing.image import load_img\n",
        "from tensorflow.keras.utils import to_categorical\n",
        "from sklearn.preprocessing import LabelBinarizer\n",
        "from sklearn.model_selection import train_test_split\n",
        "from sklearn.metrics import classification_report\n",
        "from imutils import paths\n",
        "import matplotlib.pyplot as plt\n",
        "import numpy as np\n",
        "import os"
      ],
      "metadata": {
        "id": "qd5XsGsmaKmW"
      },
      "execution_count": null,
      "outputs": []
    },
    {
      "cell_type": "code",
      "source": [
        "# initialize the initial learning rate, number of epochs to train for,\n",
        "# and batch size\n",
        "INIT_LR = 1e-4\n",
        "EPOCHS = 20\n",
        "BS = 32"
      ],
      "metadata": {
        "id": "-1h3m1nYaTAn"
      },
      "execution_count": null,
      "outputs": []
    },
    {
      "cell_type": "markdown",
      "source": [
        "# **Get Data and encode labels**"
      ],
      "metadata": {
        "id": "5TooEy374-y5"
      }
    },
    {
      "cell_type": "code",
      "source": [
        "TRAIN_DIRECTORY = \"/content/drive/MyDrive/dataset/train/\"\n",
        "TEST_DIRECTORY = \"/content/drive/MyDrive/dataset/test/\"\n",
        "\n",
        "CATEGORIES = [\"with_mask\", \"without_mask\"]\n",
        "\n",
        "# grab the list of images in our dataset directory, then initialize\n",
        "# the list of data (i.e., images) and class images\n",
        "print(\"[INFO] loading images...\")\n",
        "\n",
        "train_data = []\n",
        "train_labels = []\n",
        "test_data = []\n",
        "test_labels = []"
      ],
      "metadata": {
        "colab": {
          "base_uri": "https://localhost:8080/"
        },
        "id": "ECeF7I4TaWMS",
        "outputId": "ee8b673a-d5cd-4d68-bbe7-ca8f3ef2bce4"
      },
      "execution_count": null,
      "outputs": [
        {
          "output_type": "stream",
          "name": "stdout",
          "text": [
            "[INFO] loading images...\n"
          ]
        }
      ]
    },
    {
      "cell_type": "code",
      "source": [
        "for category in CATEGORIES:\n",
        "    path = os.path.join(TRAIN_DIRECTORY, category)\n",
        "    for img in os.listdir(path):\n",
        "    \timg_path = os.path.join(path, img)\n",
        "    \timage = load_img(img_path, target_size=(224, 224))\n",
        "    \timage = img_to_array(image)\n",
        "    \timage = preprocess_input(image)\n",
        "\n",
        "    \ttrain_data.append(image)\n",
        "    \ttrain_labels.append(category)\n",
        "\t\t "
      ],
      "metadata": {
        "colab": {
          "base_uri": "https://localhost:8080/"
        },
        "id": "qZ7E7PFbaZZE",
        "outputId": "3282ce8d-1897-4b9e-f00d-0c99fdcd13d0"
      },
      "execution_count": null,
      "outputs": [
        {
          "output_type": "stream",
          "name": "stderr",
          "text": [
            "/usr/local/lib/python3.7/dist-packages/PIL/Image.py:960: UserWarning: Palette images with Transparency expressed in bytes should be converted to RGBA images\n",
            "  \"Palette images with Transparency expressed in bytes should be \"\n"
          ]
        }
      ]
    },
    {
      "cell_type": "code",
      "source": [
        "# perform one-hot encoding on the labels\n",
        "lb = LabelBinarizer()\n",
        "labels = lb.fit_transform(train_labels)  #encode labels to 0 , 1 \n",
        "labels = to_categorical(labels)\n",
        "\n",
        "data = np.array(train_data, dtype=\"float32\")\n",
        "labels = np.array(labels)\n",
        "\n",
        "(trainX, validateX, trainY, validateY) = train_test_split(data, labels,\n",
        "\ttest_size=0.20, stratify=labels, random_state=42)"
      ],
      "metadata": {
        "id": "1-kfRDzDadHl"
      },
      "execution_count": null,
      "outputs": []
    },
    {
      "cell_type": "code",
      "source": [
        "print(len(trainX))\n",
        "print(len(validateX))"
      ],
      "metadata": {
        "colab": {
          "base_uri": "https://localhost:8080/"
        },
        "id": "cPb9nM0ddO4G",
        "outputId": "09e7b908-3e93-41f7-92e8-ae747487b7eb"
      },
      "execution_count": null,
      "outputs": [
        {
          "output_type": "stream",
          "name": "stdout",
          "text": [
            "2464\n",
            "617\n"
          ]
        }
      ]
    },
    {
      "cell_type": "markdown",
      "source": [
        "# **Build Model**"
      ],
      "metadata": {
        "id": "XT1S2-Gb5V7d"
      }
    },
    {
      "cell_type": "code",
      "source": [
        "aug = ImageDataGenerator(\n",
        "\t\trotation_range=20,\n",
        "\t\tzoom_range=0.15,\n",
        "\t\twidth_shift_range=0.2,\n",
        "\t\theight_shift_range=0.2,\n",
        "\t\tshear_range=0.15,\n",
        "\t\thorizontal_flip=True,\n",
        "\t\tfill_mode=\"nearest\")"
      ],
      "metadata": {
        "id": "2a4lS52R6P9C"
      },
      "execution_count": null,
      "outputs": []
    },
    {
      "cell_type": "code",
      "source": [
        "# load the MobileNetV2 network, ensuring the head FC layer sets are\n",
        "# left off\n",
        "baseModel = MobileNetV2(weights=\"imagenet\", include_top=False,\n",
        "\tinput_tensor=Input(shape=(224, 224, 3)))"
      ],
      "metadata": {
        "colab": {
          "base_uri": "https://localhost:8080/"
        },
        "id": "rDM8VGQEakrh",
        "outputId": "48bbcfa5-c222-43a4-8d41-b54f7b19cdf5"
      },
      "execution_count": null,
      "outputs": [
        {
          "output_type": "stream",
          "name": "stdout",
          "text": [
            "WARNING:tensorflow:`input_shape` is undefined or non-square, or `rows` is not in [96, 128, 160, 192, 224]. Weights for input shape (224, 224) will be loaded as the default.\n",
            "Downloading data from https://storage.googleapis.com/tensorflow/keras-applications/mobilenet_v2/mobilenet_v2_weights_tf_dim_ordering_tf_kernels_1.0_224_no_top.h5\n",
            "9412608/9406464 [==============================] - 0s 0us/step\n",
            "9420800/9406464 [==============================] - 0s 0us/step\n"
          ]
        }
      ]
    },
    {
      "cell_type": "code",
      "source": [
        "# construct the head of the model that will be placed on top of the\n",
        "# the base model\n",
        "headModel = baseModel.output\n",
        "headModel = AveragePooling2D(pool_size=(7, 7))(headModel)\n",
        "headModel = Flatten(name=\"flatten\")(headModel)\n",
        "headModel = Dense(128, activation=\"relu\")(headModel)\n",
        "headModel = Dropout(0.5)(headModel)\n",
        "headModel = Dense(2, activation=\"softmax\")(headModel)"
      ],
      "metadata": {
        "id": "ETF0gLqLan_1"
      },
      "execution_count": null,
      "outputs": []
    },
    {
      "cell_type": "code",
      "source": [
        "# place the head FC model on top of the base model (this will become\n",
        "# the actual model we will train)\n",
        "model = Model(inputs=baseModel.input, outputs=headModel)"
      ],
      "metadata": {
        "id": "vw5cbb8BaqO0"
      },
      "execution_count": null,
      "outputs": []
    },
    {
      "cell_type": "code",
      "source": [
        "# loop over all layers in the base model and freeze them so they will\n",
        "# *not* be updated during the first training process\n",
        "for layer in baseModel.layers:\n",
        "\tlayer.trainable = False"
      ],
      "metadata": {
        "id": "qH5U357EasuC"
      },
      "execution_count": null,
      "outputs": []
    },
    {
      "cell_type": "code",
      "source": [
        "# compile our model\n",
        "print(\"[INFO] compiling model...\")\n",
        "opt = Adam(lr=INIT_LR, decay=INIT_LR / EPOCHS)\n",
        "model.compile(loss=\"binary_crossentropy\", optimizer=opt,\n",
        "\tmetrics=[\"accuracy\"])"
      ],
      "metadata": {
        "colab": {
          "base_uri": "https://localhost:8080/"
        },
        "id": "q-ea-kU8avtB",
        "outputId": "0d9725ac-0d5d-423e-a01f-7f64a5c8fbf0"
      },
      "execution_count": null,
      "outputs": [
        {
          "output_type": "stream",
          "name": "stdout",
          "text": [
            "[INFO] compiling model...\n"
          ]
        },
        {
          "output_type": "stream",
          "name": "stderr",
          "text": [
            "/usr/local/lib/python3.7/dist-packages/keras/optimizer_v2/adam.py:105: UserWarning: The `lr` argument is deprecated, use `learning_rate` instead.\n",
            "  super(Adam, self).__init__(name, **kwargs)\n"
          ]
        }
      ]
    },
    {
      "cell_type": "code",
      "source": [
        "model.summary"
      ],
      "metadata": {
        "colab": {
          "base_uri": "https://localhost:8080/"
        },
        "id": "OP0I_nm6a0tW",
        "outputId": "7691ecc2-372c-4922-b5b3-02101c8bcd5f"
      },
      "execution_count": null,
      "outputs": [
        {
          "output_type": "execute_result",
          "data": {
            "text/plain": [
              "<bound method Model.summary of <keras.engine.functional.Functional object at 0x7efba0a3b9d0>>"
            ]
          },
          "metadata": {},
          "execution_count": 15
        }
      ]
    },
    {
      "cell_type": "markdown",
      "source": [
        "# **Train Model**"
      ],
      "metadata": {
        "id": "SMNzojStcsw9"
      }
    },
    {
      "cell_type": "code",
      "source": [
        "# train the head of the network\n",
        "print(\"[INFO] training head...\")\n",
        "H = model.fit(\n",
        "\taug.flow(trainX, trainY, batch_size=BS),\n",
        "\tsteps_per_epoch=len(trainX) // BS,\n",
        "\tvalidation_data=(validateX, validateY),\n",
        "\tvalidation_steps=len(validateX) // BS,\n",
        "\tepochs=EPOCHS)"
      ],
      "metadata": {
        "colab": {
          "base_uri": "https://localhost:8080/"
        },
        "id": "N5ke-_qma1dq",
        "outputId": "1241e6ec-8913-4c25-bedc-0539b7346bfb"
      },
      "execution_count": null,
      "outputs": [
        {
          "output_type": "stream",
          "name": "stdout",
          "text": [
            "[INFO] training head...\n",
            "Epoch 1/20\n",
            "77/77 [==============================] - 119s 1s/step - loss: 0.4422 - accuracy: 0.8397 - val_loss: 0.1762 - val_accuracy: 0.9676\n",
            "Epoch 2/20\n",
            "77/77 [==============================] - 114s 1s/step - loss: 0.1768 - accuracy: 0.9602 - val_loss: 0.0937 - val_accuracy: 0.9757\n",
            "Epoch 3/20\n",
            "77/77 [==============================] - 113s 1s/step - loss: 0.1170 - accuracy: 0.9704 - val_loss: 0.0731 - val_accuracy: 0.9757\n",
            "Epoch 4/20\n",
            "77/77 [==============================] - 113s 1s/step - loss: 0.0905 - accuracy: 0.9756 - val_loss: 0.0622 - val_accuracy: 0.9806\n",
            "Epoch 5/20\n",
            "77/77 [==============================] - 113s 1s/step - loss: 0.0759 - accuracy: 0.9805 - val_loss: 0.0533 - val_accuracy: 0.9806\n",
            "Epoch 6/20\n",
            "77/77 [==============================] - 114s 1s/step - loss: 0.0693 - accuracy: 0.9817 - val_loss: 0.0467 - val_accuracy: 0.9822\n",
            "Epoch 7/20\n",
            "77/77 [==============================] - 115s 1s/step - loss: 0.0585 - accuracy: 0.9821 - val_loss: 0.0446 - val_accuracy: 0.9838\n",
            "Epoch 8/20\n",
            "77/77 [==============================] - 116s 1s/step - loss: 0.0488 - accuracy: 0.9878 - val_loss: 0.0425 - val_accuracy: 0.9838\n",
            "Epoch 9/20\n",
            "77/77 [==============================] - 115s 1s/step - loss: 0.0498 - accuracy: 0.9874 - val_loss: 0.0679 - val_accuracy: 0.9757\n",
            "Epoch 10/20\n",
            "77/77 [==============================] - 114s 1s/step - loss: 0.0439 - accuracy: 0.9858 - val_loss: 0.0395 - val_accuracy: 0.9870\n",
            "Epoch 11/20\n",
            "77/77 [==============================] - 114s 1s/step - loss: 0.0424 - accuracy: 0.9911 - val_loss: 0.0356 - val_accuracy: 0.9887\n",
            "Epoch 12/20\n",
            "77/77 [==============================] - 114s 1s/step - loss: 0.0343 - accuracy: 0.9915 - val_loss: 0.0441 - val_accuracy: 0.9822\n",
            "Epoch 13/20\n",
            "77/77 [==============================] - 114s 1s/step - loss: 0.0348 - accuracy: 0.9915 - val_loss: 0.0388 - val_accuracy: 0.9854\n",
            "Epoch 14/20\n",
            "77/77 [==============================] - 114s 1s/step - loss: 0.0361 - accuracy: 0.9886 - val_loss: 0.0386 - val_accuracy: 0.9854\n",
            "Epoch 15/20\n",
            "77/77 [==============================] - 113s 1s/step - loss: 0.0359 - accuracy: 0.9886 - val_loss: 0.0468 - val_accuracy: 0.9822\n",
            "Epoch 16/20\n",
            "77/77 [==============================] - 114s 1s/step - loss: 0.0288 - accuracy: 0.9931 - val_loss: 0.0351 - val_accuracy: 0.9854\n",
            "Epoch 17/20\n",
            "77/77 [==============================] - 113s 1s/step - loss: 0.0325 - accuracy: 0.9886 - val_loss: 0.0331 - val_accuracy: 0.9887\n",
            "Epoch 18/20\n",
            "77/77 [==============================] - 112s 1s/step - loss: 0.0380 - accuracy: 0.9886 - val_loss: 0.0434 - val_accuracy: 0.9806\n",
            "Epoch 19/20\n",
            "77/77 [==============================] - 113s 1s/step - loss: 0.0293 - accuracy: 0.9915 - val_loss: 0.0398 - val_accuracy: 0.9838\n",
            "Epoch 20/20\n",
            "77/77 [==============================] - 113s 1s/step - loss: 0.0320 - accuracy: 0.9894 - val_loss: 0.0351 - val_accuracy: 0.9854\n"
          ]
        }
      ]
    },
    {
      "cell_type": "markdown",
      "source": [
        "# **Get Model Accuacy and validation**"
      ],
      "metadata": {
        "id": "m3rHXWVO5yM7"
      }
    },
    {
      "cell_type": "code",
      "source": [
        "print(\"Loss                 : {}\".format(np.array(H.history[\"loss\"]).mean()))\n",
        "print(\"Accuracy             : {}\".format(np.array(H.history[\"accuracy\"]).mean()*100))\n",
        "print(\"Validation Accuracy  : {}\".format(np.array(H.history[\"val_accuracy\"]).mean()*100))"
      ],
      "metadata": {
        "colab": {
          "base_uri": "https://localhost:8080/"
        },
        "id": "tpTkUMSb5_Jg",
        "outputId": "d46667f0-81f1-4791-cc31-5175e87e50c4"
      },
      "execution_count": null,
      "outputs": [
        {
          "output_type": "stream",
          "name": "stdout",
          "text": [
            "Loss                 : 0.07584733963012695\n",
            "Accuracy             : 97.76988625526428\n",
            "Validation Accuracy  : 98.20097267627716\n"
          ]
        }
      ]
    },
    {
      "cell_type": "code",
      "source": [
        "for category in CATEGORIES:\n",
        "    path = os.path.join(TEST_DIRECTORY, category)\n",
        "    for img in os.listdir(path):\n",
        "    \timg_path = os.path.join(path, img)\n",
        "    \timage = load_img(img_path, target_size=(224, 224))\n",
        "    \timage = img_to_array(image)\n",
        "    \timage = preprocess_input(image)\n",
        "\n",
        "    \ttest_data.append(image)\n",
        "    \ttest_labels.append(category)\n",
        "\t\t # perform one-hot encoding on the labels\n",
        "t_labels = lb.fit_transform(test_labels)  #encode labels to 0 , 1 \n",
        "t_labels = to_categorical(t_labels)\n",
        "\n",
        "testX = np.array(test_data, dtype=\"float32\")\n",
        "testY = np.array(t_labels)"
      ],
      "metadata": {
        "id": "TyEGWNSH34IM"
      },
      "execution_count": null,
      "outputs": []
    },
    {
      "cell_type": "code",
      "source": [
        "# make predictions on the testing set\n",
        "print(\"[INFO] evaluating network...\")\n",
        "predictY = model.predict(testX, batch_size=BS)"
      ],
      "metadata": {
        "id": "OZFf3Y4Aa7rF",
        "colab": {
          "base_uri": "https://localhost:8080/"
        },
        "outputId": "7044c293-3d54-4cd8-abb8-78a545fcf5ff"
      },
      "execution_count": null,
      "outputs": [
        {
          "output_type": "stream",
          "name": "stdout",
          "text": [
            "[INFO] evaluating network...\n"
          ]
        }
      ]
    },
    {
      "cell_type": "code",
      "source": [
        "# for each image in the testing set we need to find the index of the\n",
        "# label with corresponding largest predicted probability\n",
        "predictY_one_dimension = np.argmax(predictY, axis=1)"
      ],
      "metadata": {
        "id": "lB2zRRISbCMQ"
      },
      "execution_count": null,
      "outputs": []
    },
    {
      "cell_type": "code",
      "source": [
        "# show a nicely formatted classification report\n",
        "print(classification_report(testY.argmax(axis=1), predictY_one_dimension,\n",
        "\ttarget_names=lb.classes_))"
      ],
      "metadata": {
        "colab": {
          "base_uri": "https://localhost:8080/"
        },
        "id": "DnXHL8IFbEBg",
        "outputId": "73d38632-3736-48f3-cad5-0d02bc33dc8c"
      },
      "execution_count": null,
      "outputs": [
        {
          "output_type": "stream",
          "name": "stdout",
          "text": [
            "              precision    recall  f1-score   support\n",
            "\n",
            "   with_mask       0.99      0.96      0.98       380\n",
            "without_mask       0.96      0.99      0.98       380\n",
            "\n",
            "    accuracy                           0.98       760\n",
            "   macro avg       0.98      0.98      0.98       760\n",
            "weighted avg       0.98      0.98      0.98       760\n",
            "\n"
          ]
        }
      ]
    },
    {
      "cell_type": "code",
      "source": [
        "# serialize the model to disk\n",
        "print(\"[INFO] saving mask detector model...\")\n",
        "model.save(\"mask_detector.model\", save_format=\"h5\")"
      ],
      "metadata": {
        "colab": {
          "base_uri": "https://localhost:8080/"
        },
        "id": "haEqhM6JbFxg",
        "outputId": "da64feb4-dbe2-462b-8fa7-7c2a1d972002"
      },
      "execution_count": null,
      "outputs": [
        {
          "output_type": "stream",
          "name": "stdout",
          "text": [
            "[INFO] saving mask detector model...\n"
          ]
        }
      ]
    },
    {
      "cell_type": "code",
      "source": [
        "# plot the training loss and accuracy\n",
        "N = EPOCHS\n",
        "plt.style.use(\"ggplot\")\n",
        "plt.figure()\n",
        "plt.plot(np.arange(0, N), H.history[\"loss\"], label=\"train_loss\")\n",
        "plt.plot(np.arange(0, N), H.history[\"val_loss\"], label=\"val_loss\")\n",
        "plt.plot(np.arange(0, N), H.history[\"accuracy\"], label=\"train_acc\")\n",
        "plt.plot(np.arange(0, N), H.history[\"val_accuracy\"], label=\"val_acc\")\n",
        "plt.title(\"Training Loss and Accuracy\")\n",
        "plt.xlabel(\"Epoch #\")\n",
        "plt.ylabel(\"Loss/Accuracy\")\n",
        "plt.legend(loc=\"lower left\")\n",
        "plt.savefig(\"plot.png\")"
      ],
      "metadata": {
        "colab": {
          "base_uri": "https://localhost:8080/",
          "height": 299
        },
        "id": "N7gszoHFbIX-",
        "outputId": "cc1bf3fb-7b47-4043-cb01-fe1fd0d11685"
      },
      "execution_count": null,
      "outputs": [
        {
          "output_type": "display_data",
          "data": {
            "text/plain": [
              "<Figure size 432x288 with 1 Axes>"
            ],
            "image/png": "[encoded data removed]"
          },
          "metadata": {}
        }
      ]
    },
    {
      "cell_type": "code",
      "source": [
        "def drawCurves(model):\n",
        "    plt.plot(model.history['accuracy'])\n",
        "    plt.plot(model.history['val_accuracy'])\n",
        "    plt.title('model accuracy')\n",
        "    plt.ylabel('accuracy')\n",
        "    plt.xlabel('epoch')\n",
        "    plt.legend(['train', 'test'], loc='upper left')\n",
        "    plt.show()\n",
        "    plt.plot(model.history['loss'])\n",
        "    plt.plot(model.history['val_loss'])\n",
        "    plt.title('model loss')\n",
        "    plt.ylabel('loss')\n",
        "    plt.xlabel('epoch')\n",
        "    plt.legend(['train', 'test'], loc='upper left')\n",
        "    plt.show()"
      ],
      "metadata": {
        "id": "_0sIBJdvmpO3"
      },
      "execution_count": null,
      "outputs": []
    },
    {
      "cell_type": "code",
      "source": [
        "import seaborn as sns\n",
        "import matplotlib.pyplot as plt\n",
        "def draw_confusion_Matrix(matrix):\n",
        "  ax = sns.heatmap(matrix, annot=True, cmap='Blues' , fmt=\"d\")\n",
        "  ax.set_title('Face Mask Detection Confusion Matrix with labels\\n\\n');\n",
        "  ax.set_xlabel('\\nPredicted Mask Detection')\n",
        "  ax.set_ylabel('Actual Mask Detection')\n",
        "  ## Ticket labels - List must be in alphabetical order\n",
        "  ax.xaxis.set_ticklabels(['With Mak','Without Mask', 'Virginia'])\n",
        "  ax.yaxis.set_ticklabels(['With Mak','Without Mask', 'Virginia'])\n",
        "  ## Display the visualization of the Confusion Matrix.\n",
        "  plt.show()"
      ],
      "metadata": {
        "id": "UMlVOwJB4Qeu"
      },
      "execution_count": null,
      "outputs": []
    },
    {
      "cell_type": "code",
      "source": [
        "drawCurves(H)"
      ],
      "metadata": {
        "colab": {
          "base_uri": "https://localhost:8080/",
          "height": 581
        },
        "id": "d2Lz1KAKn-yN",
        "outputId": "f52d994a-5ca7-4a40-cf89-1b28c305cf8a"
      },
      "execution_count": null,
      "outputs": [
        {
          "output_type": "display_data",
          "data": {
            "text/plain": [
              "<Figure size 432x288 with 1 Axes>"
            ],
            "image/png": "[encoded data removed]"
          },
          "metadata": {}
        },
        {
          "output_type": "display_data",
          "data": {
            "text/plain": [
              "<Figure size 432x288 with 1 Axes>"
            ],
            "image/png": "[encoded data removed]"
          },
          "metadata": {}
        }
      ]
    },
    {
      "cell_type": "code",
      "source": [
        "testY_one_dimension = np.argmax(testY, axis=1)"
      ],
      "metadata": {
        "id": "b3TVMrJatM9W"
      },
      "execution_count": null,
      "outputs": []
    },
    {
      "cell_type": "code",
      "source": [
        "cf_matrix = confusion_matrix(testY_one_dimension , predictY_one_dimension)"
      ],
      "metadata": {
        "id": "KNcsLPx2zk8C"
      },
      "execution_count": null,
      "outputs": []
    },
    {
      "cell_type": "code",
      "source": [
        "cf_matrix"
      ],
      "metadata": {
        "colab": {
          "base_uri": "https://localhost:8080/"
        },
        "id": "D7Xap0XBRYCr",
        "outputId": "6b9b3309-ba5a-4fd5-eda1-8a95f1946183"
      },
      "execution_count": null,
      "outputs": [
        {
          "output_type": "execute_result",
          "data": {
            "text/plain": [
              "array([[366,  14],\n",
              "       [  2, 378]])"
            ]
          },
          "metadata": {},
          "execution_count": 57
        }
      ]
    },
    {
      "cell_type": "code",
      "source": [
        "test_Accuracy = (cf_matrix[0][0] + cf_matrix[1][1]) / (cf_matrix[0][0] + cf_matrix[1][1] + cf_matrix[1][0] + cf_matrix[0][1])\n",
        "print(\"Test Accuracy : {}\".format(test_Accuracy * 100))\n",
        "cf_matrix[0][0] + cf_matrix[1][1]"
      ],
      "metadata": {
        "colab": {
          "base_uri": "https://localhost:8080/"
        },
        "id": "L9BkmD7v7gLf",
        "outputId": "5ede7dfe-1b53-45fd-8007-ebdbee453595"
      },
      "execution_count": null,
      "outputs": [
        {
          "output_type": "stream",
          "name": "stdout",
          "text": [
            "Test Accuracy : 97.89473684210527\n"
          ]
        },
        {
          "output_type": "execute_result",
          "data": {
            "text/plain": [
              "744"
            ]
          },
          "metadata": {},
          "execution_count": 58
        }
      ]
    },
    {
      "cell_type": "code",
      "source": [
        "draw_confusion_Matrix(cf_matrix)"
      ],
      "metadata": {
        "colab": {
          "base_uri": "https://localhost:8080/",
          "height": 347
        },
        "id": "XVdZaG437aoQ",
        "outputId": "a63c2f88-99df-448b-a531-52940acb77d0"
      },
      "execution_count": null,
      "outputs": [
        {
          "output_type": "display_data",
          "data": {
            "text/plain": [
              "<Figure size 432x288 with 2 Axes>"
            ],
            "image/png": "[encoded data removed]"
          },
          "metadata": {}
        }
      ]
    },
    {
      "cell_type": "code",
      "source": [
        "from sklearn.metrics import roc_curve, roc_auc_score\n",
        "linearauc = roc_auc_score(testY_one_dimension, predictY_one_dimension)\n",
        "linearfpr, lineartpr, threadshot = roc_curve(testY_one_dimension, predictY_one_dimension) #linearfpr holds the False Positive rate, lineartpr holds True Positive rate\n",
        "\n",
        "#plotting the ROC curve\n",
        "plt.plot(linearfpr, lineartpr,linestyle='--', label='linear SVC')\n",
        "plt.title('ROC')\n",
        "plt.xlabel('False Positive')\n",
        "plt.ylabel('True Positive')\n",
        "plt.legend()\n",
        "plt.show()"
      ],
      "metadata": {
        "colab": {
          "base_uri": "https://localhost:8080/",
          "height": 299
        },
        "id": "rtk5LpoBCOFt",
        "outputId": "6b8a5575-79c5-4592-d0b0-84023cc541f3"
      },
      "execution_count": null,
      "outputs": [
        {
          "output_type": "display_data",
          "data": {
            "text/plain": [
              "<Figure size 432x288 with 1 Axes>"
            ],
            "image/png": "[encoded data removed]"
          },
          "metadata": {}
        }
      ]
    },
    {
      "cell_type": "code",
      "source": [
        "print(len(trainX))\n",
        "print(len(validateX))\n",
        "print(len(testX))"
      ],
      "metadata": {
        "colab": {
          "base_uri": "https://localhost:8080/"
        },
        "id": "owjfJaIJk732",
        "outputId": "43ab743d-8991-47ca-9602-f3965d48020b"
      },
      "execution_count": 66,
      "outputs": [
        {
          "output_type": "stream",
          "name": "stdout",
          "text": [
            "2464\n",
            "617\n",
            "760\n"
          ]
        }
      ]
    }
  ]
}